{
 "cells": [
  {
   "cell_type": "code",
   "execution_count": 1,
   "id": "a5cf87ca-899c-4b2b-bee6-98d64700cdf9",
   "metadata": {},
   "outputs": [
    {
     "name": "stdout",
     "output_type": "stream",
     "text": [
      "1***\n",
      "23**\n",
      "456*\n",
      "78910\n"
     ]
    }
   ],
   "source": [
    "rows = 4\n",
    "count = 1\n",
    "for i in range(1, rows + 1):\n",
    "    for j in range(1, i + 1):\n",
    "        print(count, end=\"\")\n",
    "        count += 1\n",
    "    print(\"*\" * (rows - i))\n"
   ]
  },
  {
   "cell_type": "code",
   "execution_count": 2,
   "id": "baaa2d0b-0b9a-487e-a3e3-b6333cdf0dc2",
   "metadata": {},
   "outputs": [
    {
     "name": "stdout",
     "output_type": "stream",
     "text": [
      "ABCD\n",
      "ABC1\n",
      "AB12\n",
      "A123\n"
     ]
    }
   ],
   "source": [
    "\n",
    "rows = 4\n",
    "for i in range(rows):\n",
    "    for j in range(rows - i):\n",
    "        print(chr(65 + j), end=\"\")\n",
    "    for k in range(i):\n",
    "        print(k + 1, end=\"\")\n",
    "    print()"
   ]
  },
  {
   "cell_type": "code",
   "execution_count": 3,
   "id": "0f89ac5d-4723-4376-adfc-919664bf15c6",
   "metadata": {},
   "outputs": [
    {
     "name": "stdout",
     "output_type": "stream",
     "text": [
      "   A\n",
      "  BCD\n",
      " EFGHI\n",
      "JKLMNOP\n"
     ]
    }
   ],
   "source": [
    "rows = 4\n",
    "start_char = 65  \n",
    "char_count = 1\n",
    "\n",
    "for i in range(rows):\n",
    "    for j in range(rows - i - 1):\n",
    "        print(\" \", end=\"\")\n",
    "    \n",
    "    for k in range(char_count):\n",
    "        print(chr(start_char), end=\"\")\n",
    "        start_char += 1\n",
    "    \n",
    "    char_count += 2\n",
    "    print()\n"
   ]
  },
  {
   "cell_type": "code",
   "execution_count": 4,
   "id": "0439afd0-3b53-4116-8a39-d80c6958bd07",
   "metadata": {},
   "outputs": [
    {
     "name": "stdout",
     "output_type": "stream",
     "text": [
      "*********\n",
      " *******\n",
      "  *****\n",
      "   ***\n",
      "    *\n"
     ]
    }
   ],
   "source": [
    "rows = 5  \n",
    "for i in range(rows, 0, -1):\n",
    "    print(\" \" * (rows - i), end=\"\")\n",
    "    print(\"*\" * (2 * i - 1))\n"
   ]
  },
  {
   "cell_type": "code",
   "execution_count": null,
   "id": "5b46eabc-f8e8-403e-9d44-c81fb950ec27",
   "metadata": {},
   "outputs": [],
   "source": []
  },
  {
   "cell_type": "code",
   "execution_count": null,
   "id": "e63484ac-4a75-4f7a-b161-46c0a93ef219",
   "metadata": {},
   "outputs": [],
   "source": []
  }
 ],
 "metadata": {
  "kernelspec": {
   "display_name": "Python 3 (ipykernel)",
   "language": "python",
   "name": "python3"
  },
  "language_info": {
   "codemirror_mode": {
    "name": "ipython",
    "version": 3
   },
   "file_extension": ".py",
   "mimetype": "text/x-python",
   "name": "python",
   "nbconvert_exporter": "python",
   "pygments_lexer": "ipython3",
   "version": "3.11.4"
  }
 },
 "nbformat": 4,
 "nbformat_minor": 5
}
